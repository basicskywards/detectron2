{
 "cells": [
  {
   "cell_type": "code",
   "execution_count": 1,
   "metadata": {},
   "outputs": [],
   "source": [
    "import os\n",
    "import sys\n",
    "import logging\n",
    "import gdown\n",
    "from zipfile import ZipFile"
   ]
  },
  {
   "cell_type": "code",
   "execution_count": 3,
   "metadata": {},
   "outputs": [
    {
     "name": "stderr",
     "output_type": "stream",
     "text": [
      "/home/arg/.local/lib/python3.6/site-packages/gdown/parse_url.py:31: UserWarning: You specified Google Drive Link but it is not the correct link to download the file. Maybe you should try: https://drive.google.com/uc?id=None\n",
      "  url=\"https://drive.google.com/uc?id={}\".format(file_id)\n",
      "Downloading...\n",
      "From: https://drive.google.com/drive/folders/1qAvu29wB4zFp3h1lXNwcVq_5wumglHpx?usp=download\n",
      "To: /home/arg/detectron2/datasets/1536031227799146675.txt\n",
      "200kB [00:00, 1.05MB/s]"
     ]
    },
    {
     "name": "stdout",
     "output_type": "stream",
     "text": [
      "Finished downloading dataset.\n"
     ]
    },
    {
     "name": "stderr",
     "output_type": "stream",
     "text": [
      "\n"
     ]
    }
   ],
   "source": [
    "dataset_url = 'https://drive.google.com/drive/folders/1qAvu29wB4zFp3h1lXNwcVq_5wumglHpx?usp=download'\n",
    "# dataset_name = 'subt-urban-coco-dataset'\n",
    "if not os.path.isdir('dataset_test_gdown'):\n",
    "    gdown.download(dataset_url, '1536031227799146675.txt', quiet=False)\n",
    "#     zip1 = ZipFile(dataset_name + '.zip')\n",
    "#     zip1.extractall(dataset_name)\n",
    "#     zip1.close()\n",
    "\n",
    "print(\"Finished downloading dataset.\") "
   ]
  },
  {
   "cell_type": "code",
   "execution_count": 7,
   "metadata": {},
   "outputs": [
    {
     "name": "stderr",
     "output_type": "stream",
     "text": [
      "/home/arg/.local/lib/python3.6/site-packages/gdown/parse_url.py:31: UserWarning: You specified Google Drive Link but it is not the correct link to download the file. Maybe you should try: https://drive.google.com/uc?id=None\n",
      "  url=\"https://drive.google.com/uc?id={}\".format(file_id)\n",
      "Downloading...\n",
      "From: https://drive.google.com/drive/folders/1epUVSuBtyqhJ8qGJZYYgJfB4eIGJW40S?usp=sharing\n",
      "To: /home/arg/detectron2/datasets/mini_competition_dataset.zip\n",
      "196kB [00:00, 985kB/s] "
     ]
    },
    {
     "name": "stdout",
     "output_type": "stream",
     "text": [
      "Finished downloading dataset.\n"
     ]
    },
    {
     "name": "stderr",
     "output_type": "stream",
     "text": [
      "\n"
     ]
    }
   ],
   "source": [
    "# dataset_url = 'https://drive.google.com/u/1/uc?id=1gyom0ysZ3GauPWd26f3_Przw2VK3tXuD&export=download'\n",
    "# https://drive.google.com/drive/folders/1epUVSuBtyqhJ8qGJZYYgJfB4eIGJW40S?usp=sharing\n",
    "# dataset_url = 'https://drive.google.com/drive/folders/1epUVSuBtyqhJ8qGJZYYgJfB4eIGJW40S?usp=sharing'\n",
    "dataset_url = 'https://drive.google.com/u/1/uc?id=1epUVSuBtyqhJ8qGJZYYgJfB4eIGJW40S&export=download'\n",
    "\n",
    "dataset_name = 'mini_competition_dataset'\n",
    "if not os.path.isdir(dataset_name):\n",
    "    gdown.download(dataset_url, output=dataset_name + '.zip', quiet=False)\n",
    "#     zip1 = ZipFile(dataset_name + '.zip')\n",
    "#     zip1.extractall(dataset_name)\n",
    "#     zip1.close()\n",
    "\n",
    "print(\"Finished downloading dataset.\") "
   ]
  },
  {
   "cell_type": "code",
   "execution_count": null,
   "metadata": {},
   "outputs": [],
   "source": []
  }
 ],
 "metadata": {
  "kernelspec": {
   "display_name": "Python 3",
   "language": "python",
   "name": "python3"
  },
  "language_info": {
   "codemirror_mode": {
    "name": "ipython",
    "version": 3
   },
   "file_extension": ".py",
   "mimetype": "text/x-python",
   "name": "python",
   "nbconvert_exporter": "python",
   "pygments_lexer": "ipython3",
   "version": "3.6.9"
  }
 },
 "nbformat": 4,
 "nbformat_minor": 2
}
